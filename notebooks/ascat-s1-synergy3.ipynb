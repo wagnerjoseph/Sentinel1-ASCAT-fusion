{
 "cells": [
  {
   "cell_type": "code",
   "execution_count": null,
   "metadata": {},
   "outputs": [],
   "source": [
    "import pystac_client\n",
    "import folium\n",
    "from odc import stac as odc_stac\n",
    "from ascat.read_native.ragged_array_ts import CellFileCollection\n",
    "import xarray as xr\n",
    "from pathlib import Path\n",
    "import numpy as np\n",
    "from pyproj import Transformer\n",
    "import matplotlib.pyplot as plt\n",
    "from scipy.spatial import cKDTree\n",
    "import yaml\n",
    "import holoviews as hv\n",
    "import dask\n",
    "import pandas as pd\n",
    "\n",
    "dask.config.set(**{\"array.slicing.split_large_chunks\": True})\n",
    "\n",
    "from dask.distributed import Client\n",
    "\n",
    "hv.extension(\"bokeh\")\n",
    "import hvplot.xarray\n",
    "\n",
    "import warnings\n",
    "\n",
    "with warnings.catch_warnings():\n",
    "    warnings.simplefilter(\"ignore\", UserWarning)\n",
    "    # h121_ds = h121_ds.set_index(time=\"time\")\n",
    "\n",
    "client = Client()"
   ]
  },
  {
   "cell_type": "code",
   "execution_count": null,
   "metadata": {},
   "outputs": [],
   "source": [
    "paths = yaml.safe_load(Path(\"../paths.yml\").read_text())\n",
    "root: Path = Path(paths[\"linux\"]).expanduser()\n",
    "cell_source: Path = root / \"datasets/scat_ard/ascat_ssm_cdr_12.5km_h121\"\n",
    "assert cell_source.exists()"
   ]
  },
  {
   "cell_type": "markdown",
   "metadata": {},
   "source": [
    "### Loading Sentinel - 1 Sigma Nought Data from EODC STAC Catalogue"
   ]
  },
  {
   "cell_type": "markdown",
   "metadata": {},
   "source": [
    "Setting time and area of interest."
   ]
  },
  {
   "cell_type": "code",
   "execution_count": null,
   "metadata": {},
   "outputs": [],
   "source": [
    "time_range = \"2021-06-01/2021-09-30\"\n",
    "\n",
    "latmin, latmax = 47, 48  # South to North\n",
    "lonmin, lonmax = 15, 16.5  # West to East\n",
    "\n",
    "bounding_box = [lonmin, latmin, lonmax, latmax]"
   ]
  },
  {
   "cell_type": "markdown",
   "metadata": {},
   "source": [
    "Loading the metadata with STAC search engine."
   ]
  },
  {
   "cell_type": "markdown",
   "metadata": {},
   "source": [
    "Let's plot thumbnail of the loaded items for this area and those dates."
   ]
  },
  {
   "cell_type": "markdown",
   "metadata": {},
   "source": [
    "Now, let's load the data with `odc_stac`."
   ]
  },
  {
   "cell_type": "markdown",
   "metadata": {},
   "source": [
    "### Loading EUMETSAT H SAF ASCAT H121 data from local TU Wien directory"
   ]
  },
  {
   "cell_type": "markdown",
   "metadata": {},
   "source": [
    "Let's extract `gpis` - grid point indices from read data."
   ]
  },
  {
   "cell_type": "code",
   "execution_count": null,
   "metadata": {},
   "outputs": [],
   "source": [
    "h121_reader = CellFileCollection.from_product_id(cell_source, \"H121_V1.0\")\n",
    "gpis, lons, lats, cells = h121_reader.grid.get_grid_points()"
   ]
  },
  {
   "cell_type": "markdown",
   "metadata": {},
   "source": [
    "Now, we will use specified bounding box that was used to filter out EODC's Sentinel-1 data to filter out grid point indices that are inside this area."
   ]
  },
  {
   "cell_type": "code",
   "execution_count": null,
   "metadata": {},
   "outputs": [],
   "source": [
    "h121_reader.grid.gpi2cell(h121_reader.grid.get_bbox_grid_points(bounding_box[1], bounding_box[3],bounding_box[0], bounding_box[2]))"
   ]
  },
  {
   "cell_type": "code",
   "execution_count": null,
   "metadata": {},
   "outputs": [],
   "source": [
    "ascat_ds = h121_reader.read(cell=1431)"
   ]
  },
  {
   "cell_type": "code",
   "execution_count": null,
   "metadata": {},
   "outputs": [],
   "source": [
    "ascat_ds.load()"
   ]
  },
  {
   "cell_type": "code",
   "execution_count": null,
   "metadata": {},
   "outputs": [],
   "source": [
    "start_time, end_time = time_range.split(\"/\")\n"
   ]
  },
  {
   "cell_type": "code",
   "execution_count": null,
   "metadata": {},
   "outputs": [],
   "source": [
    "if \"time\" not in ascat_ds.indexes:\n",
    "    ascat_ds = ascat_ds.set_xindex(\"time\")\n",
    "\n",
    "ascat_ds = ascat_ds.sortby(\"time\").sel(time=slice(start_time, end_time))\n",
    "ascat_ds"
   ]
  },
  {
   "cell_type": "code",
   "execution_count": null,
   "metadata": {},
   "outputs": [],
   "source": [
    "tdss = h121_reader.read(cell=1431)\n",
    "tdss.load()\n",
    "\n",
    "if \"time\" not in tdss.indexes:\n",
    "    tdss = tdss.set_xindex(\"time\")\n",
    "\n",
    "tdss = tdss.sortby(\"time\").sel(time=slice(start_time, end_time))\n",
    "tdss"
   ]
  },
  {
   "cell_type": "code",
   "execution_count": null,
   "metadata": {},
   "outputs": [],
   "source": [
    "lat_mask = (ascat_ds.lat >= latmin) & (ascat_ds.lat <= latmax)\n",
    "lon_mask = (ascat_ds.lon >= lonmin) & (ascat_ds.lon <= lonmax)\n",
    "spatial_mask = lat_mask & lon_mask\n",
    "\n",
    "ascat_ds = ascat_ds.where(spatial_mask, drop=True)\n",
    "ascat_ds"
   ]
  },
  {
   "cell_type": "code",
   "execution_count": null,
   "metadata": {},
   "outputs": [],
   "source": [
    "ascat_ds.sat_id.min()"
   ]
  },
  {
   "cell_type": "markdown",
   "metadata": {},
   "source": [
    "Finally, let's plot the results to see how the grid points look like and what is their spatial resolution."
   ]
  },
  {
   "cell_type": "code",
   "execution_count": null,
   "metadata": {},
   "outputs": [],
   "source": [
    "lats = ascat_ds[\"lat\"].values\n",
    "lons = ascat_ds[\"lon\"].values\n",
    "ids = ascat_ds[\"location_id\"].values\n",
    "\n",
    "center = [lats.mean(), lons.mean()]\n",
    "map = folium.Map(location=center, zoom_start=8)\n",
    "\n",
    "folium.Rectangle(\n",
    "    bounds=[[latmin, lonmin], [latmax, lonmax]],\n",
    "    color=\"blue\",\n",
    "    fill=True,\n",
    "    fill_opacity=0.1,\n",
    "    weight=2,\n",
    "    popup=\"Area of Interest\",\n",
    ").add_to(map)\n",
    "\n",
    "for lat, lon, loc_id in zip(lats, lons, ids):\n",
    "    folium.CircleMarker(\n",
    "        location=[lat, lon],\n",
    "        radius=5,\n",
    "        popup=f\"ID: {loc_id}\",\n",
    "        color=\"blue\",\n",
    "        fill=True,\n",
    "        fill_color=\"blue\",\n",
    "    ).add_to(map)\n",
    "\n",
    "map\n"
   ]
  },
  {
   "cell_type": "code",
   "execution_count": null,
   "metadata": {},
   "outputs": [],
   "source": [
    "eodc_catalog = pystac_client.Client.open(\"https://stac.eodc.eu/api/v1\")\n",
    "colllection_id = \"SENTINEL1_SIG0_20M\"\n",
    "collection = eodc_catalog.get_collection(colllection_id)"
   ]
  },
  {
   "cell_type": "code",
   "execution_count": null,
   "metadata": {},
   "outputs": [],
   "source": [
    "search = eodc_catalog.search(\n",
    "    collections=colllection_id,\n",
    "    bbox=bounding_box,\n",
    "    datetime=time_range,\n",
    ")\n",
    "items_eodc = search.item_collection()"
   ]
  },
  {
   "cell_type": "code",
   "execution_count": null,
   "metadata": {},
   "outputs": [],
   "source": [
    "map = folium.Map(\n",
    "    location=[(latmin + latmax) / 2, (lonmin + lonmax) / 2],\n",
    "    zoom_start=7,\n",
    "    zoom_control=False,\n",
    "    scrollWheelZoom=False,\n",
    "    dragging=False,\n",
    ")\n",
    "\n",
    "folium.Rectangle(\n",
    "    bounds=[[latmin, lonmin], [latmax, lonmax]],\n",
    "    color=\"blue\",\n",
    "    fill=True,\n",
    "    fill_opacity=0.1,\n",
    "    weight=2,\n",
    "    popup=\"Area of Interest\",\n",
    ").add_to(map)\n",
    "\n",
    "for item in items_eodc:\n",
    "    # url leading to display of an item, can also be used as hyperlink\n",
    "    image_url = item.assets[\"thumbnail\"].href\n",
    "    bounds = item.bbox\n",
    "    folium.raster_layers.ImageOverlay(\n",
    "        image=image_url,\n",
    "        bounds=[[bounds[1], bounds[0]], [bounds[3], bounds[2]]],\n",
    "    ).add_to(map)\n",
    "\n",
    "folium.LayerControl().add_to(map)\n",
    "\n",
    "map"
   ]
  },
  {
   "cell_type": "code",
   "execution_count": null,
   "metadata": {},
   "outputs": [],
   "source": [
    "sig0_dc = odc_stac.load(\n",
    "    items_eodc,\n",
    "    crs=\"EPSG:4326\",\n",
    "    resolution=0.0002,  # ~20 meters\n",
    "    bbox=bounding_box,\n",
    "    chunks={\"time\": 1, \"longitude\": 1000, \"latitude\": 1000},\n",
    "    resampling=\"bilinear\",\n",
    ")\n",
    "\n",
    "sig0_dc"
   ]
  },
  {
   "cell_type": "code",
   "execution_count": null,
   "metadata": {},
   "outputs": [],
   "source": [
    "item = items_eodc[0]\n",
    "scale = item.assets[\"VV\"].extra_fields.get(\"raster:bands\")[0][\"scale\"]\n",
    "nodata = item.assets[\"VV\"].extra_fields.get(\"raster:bands\")[0][\"nodata\"]\n",
    "sig0_dc = sig0_dc.where(sig0_dc != nodata) / scale\n",
    "# sig0_dc = sig0_dc.interpolate_na(dim=\"time\",\n",
    "#                                  method=\"nearest\",\n",
    "#                                  use_coordinate=\"time\",\n",
    "#                                  max_gap=pd.Timedelta(\"6h\"))\n",
    "# sig0_dc = sig0_dc.ffill(\"time\")\n",
    "sig0_dc"
   ]
  },
  {
   "cell_type": "code",
   "execution_count": null,
   "metadata": {},
   "outputs": [],
   "source": [
    "dummy = xr.ones_like(sig0_dc.VH)\n",
    "dummy = dummy * (dummy.time - dummy.time.min()).astype(int)\n",
    "dummy\n",
    "sig0_dc[\"dummy\"] = dummy"
   ]
  },
  {
   "cell_type": "code",
   "execution_count": null,
   "metadata": {},
   "outputs": [],
   "source": [
    "sig0_dc.VV.isel(time=5)[::20, ::20].plot(cmap=\"viridis\", robust=True)"
   ]
  },
  {
   "cell_type": "code",
   "execution_count": null,
   "metadata": {},
   "outputs": [],
   "source": [
    "ascat_ds"
   ]
  },
  {
   "cell_type": "code",
   "execution_count": null,
   "metadata": {},
   "outputs": [],
   "source": [
    "# obs_gpis = tdss[\"location_id\"][tdss[\"locationIndex\"]]\n",
    "# obs_gpis"
   ]
  },
  {
   "cell_type": "code",
   "execution_count": null,
   "metadata": {},
   "outputs": [],
   "source": [
    "# sig0_regridded = sig0_dc.sel(longitude=obs_gpis.lon, latitude=obs_gpis.lat, time=tdss[\"time\"], method=\"nearest\")  # KERNEL CRASHES\n",
    "# sig0_regridded"
   ]
  },
  {
   "cell_type": "code",
   "execution_count": null,
   "metadata": {},
   "outputs": [],
   "source": [
    "# sig0_regridded.sel(obs = (obs_gpis == 1205759)).VV.plot()"
   ]
  },
  {
   "cell_type": "code",
   "execution_count": null,
   "metadata": {},
   "outputs": [],
   "source": [
    "sig0_regridded = sig0_dc.sel(longitude=ascat_ds.lon, latitude=ascat_ds.lat, method=\"nearest\")\n",
    "sig0_regridded[\"location_id\"] = ascat_ds.location_id\n",
    "regridded = sig0_regridded.set_coords(\"location_id\")\n",
    "regridded"
   ]
  },
  {
   "cell_type": "code",
   "execution_count": null,
   "metadata": {},
   "outputs": [],
   "source": [
    "time_first = sig0_dc.sel(time=ascat_ds.time, method=\"nearest\")\n",
    "time_first"
   ]
  },
  {
   "cell_type": "code",
   "execution_count": null,
   "metadata": {},
   "outputs": [],
   "source": [
    "pixel = sig0_dc.isel(latitude=2500, longitude=3500)\n",
    "pixel = pixel.where(pixel.notnull(), 0)\n",
    "pixel.VV.plot.scatter(x=\"time\")"
   ]
  },
  {
   "cell_type": "code",
   "execution_count": null,
   "metadata": {},
   "outputs": [],
   "source": [
    "pixel.sel(time=np.datetime64(\"2021-09-15\"), method=\"nearest\").VV.values"
   ]
  },
  {
   "cell_type": "code",
   "execution_count": null,
   "metadata": {},
   "outputs": [],
   "source": [
    "sig0_dc.time"
   ]
  },
  {
   "cell_type": "code",
   "execution_count": null,
   "metadata": {},
   "outputs": [],
   "source": [
    "regridded.dummy.isel(locations=1).plot()"
   ]
  },
  {
   "cell_type": "code",
   "execution_count": null,
   "metadata": {},
   "outputs": [],
   "source": [
    "if len(ascat_ds.time) != len(sig0_regridded.time):\n",
    "    sig0_regridded = sig0_regridded.sel(time=ascat_ds[\"time\"], method=\"nearest\")\n",
    "\n",
    "sig0_regridded"
   ]
  },
  {
   "cell_type": "code",
   "execution_count": null,
   "metadata": {},
   "outputs": [],
   "source": [
    "sig0_regridded.VV.isel(locations=1).plot()"
   ]
  },
  {
   "cell_type": "code",
   "execution_count": null,
   "metadata": {},
   "outputs": [],
   "source": [
    "sig0_regridded.VV.isel(locations=2).plot.scatter(x=\"obs\", y=\"VV\")"
   ]
  }
 ],
 "metadata": {
  "kernelspec": {
   "display_name": "ascat-s1-synergy",
   "language": "python",
   "name": "python3"
  },
  "language_info": {
   "codemirror_mode": {
    "name": "ipython",
    "version": 3
   },
   "file_extension": ".py",
   "mimetype": "text/x-python",
   "name": "python",
   "nbconvert_exporter": "python",
   "pygments_lexer": "ipython3",
   "version": "3.10.16"
  }
 },
 "nbformat": 4,
 "nbformat_minor": 2
}
